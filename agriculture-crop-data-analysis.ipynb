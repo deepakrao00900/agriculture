{
 "cells": [
  {
   "cell_type": "markdown",
   "metadata": {},
   "source": [
    "# AGRICULTURE CROP DATA ANALYSIS "
   ]
  },
  {
   "cell_type": "code",
   "execution_count": 1,
   "metadata": {},
   "outputs": [],
   "source": [
    "import pandas as pd\n",
    "import numpy as np\n",
    "import seaborn as sns\n",
    "import matplotlib.pyplot as plt"
   ]
  },
  {
   "cell_type": "code",
   "execution_count": 2,
   "metadata": {},
   "outputs": [],
   "source": [
    "data = pd.read_csv(\"../input/datafile (1).csv\")"
   ]
  },
  {
   "cell_type": "code",
   "execution_count": 3,
   "metadata": {},
   "outputs": [
    {
     "data": {
      "text/html": [
       "<div>\n",
       "<style scoped>\n",
       "    .dataframe tbody tr th:only-of-type {\n",
       "        vertical-align: middle;\n",
       "    }\n",
       "\n",
       "    .dataframe tbody tr th {\n",
       "        vertical-align: top;\n",
       "    }\n",
       "\n",
       "    .dataframe thead th {\n",
       "        text-align: right;\n",
       "    }\n",
       "</style>\n",
       "<table border=\"1\" class=\"dataframe\">\n",
       "  <thead>\n",
       "    <tr style=\"text-align: right;\">\n",
       "      <th></th>\n",
       "      <th>Crop</th>\n",
       "      <th>State</th>\n",
       "      <th>Cost of Cultivation (`/Hectare) A2+FL</th>\n",
       "      <th>Cost of Cultivation (`/Hectare) C2</th>\n",
       "      <th>Cost of Production (`/Quintal) C2</th>\n",
       "      <th>Yield (Quintal/ Hectare)</th>\n",
       "    </tr>\n",
       "  </thead>\n",
       "  <tbody>\n",
       "    <tr>\n",
       "      <th>0</th>\n",
       "      <td>ARHAR</td>\n",
       "      <td>Uttar Pradesh</td>\n",
       "      <td>9794.05</td>\n",
       "      <td>23076.74</td>\n",
       "      <td>1941.55</td>\n",
       "      <td>9.83</td>\n",
       "    </tr>\n",
       "    <tr>\n",
       "      <th>1</th>\n",
       "      <td>ARHAR</td>\n",
       "      <td>Karnataka</td>\n",
       "      <td>10593.15</td>\n",
       "      <td>16528.68</td>\n",
       "      <td>2172.46</td>\n",
       "      <td>7.47</td>\n",
       "    </tr>\n",
       "    <tr>\n",
       "      <th>2</th>\n",
       "      <td>ARHAR</td>\n",
       "      <td>Gujarat</td>\n",
       "      <td>13468.82</td>\n",
       "      <td>19551.90</td>\n",
       "      <td>1898.30</td>\n",
       "      <td>9.59</td>\n",
       "    </tr>\n",
       "    <tr>\n",
       "      <th>3</th>\n",
       "      <td>ARHAR</td>\n",
       "      <td>Andhra Pradesh</td>\n",
       "      <td>17051.66</td>\n",
       "      <td>24171.65</td>\n",
       "      <td>3670.54</td>\n",
       "      <td>6.42</td>\n",
       "    </tr>\n",
       "    <tr>\n",
       "      <th>4</th>\n",
       "      <td>ARHAR</td>\n",
       "      <td>Maharashtra</td>\n",
       "      <td>17130.55</td>\n",
       "      <td>25270.26</td>\n",
       "      <td>2775.80</td>\n",
       "      <td>8.72</td>\n",
       "    </tr>\n",
       "  </tbody>\n",
       "</table>\n",
       "</div>"
      ],
      "text/plain": [
       "    Crop            ...            Yield (Quintal/ Hectare) \n",
       "0  ARHAR            ...                                 9.83\n",
       "1  ARHAR            ...                                 7.47\n",
       "2  ARHAR            ...                                 9.59\n",
       "3  ARHAR            ...                                 6.42\n",
       "4  ARHAR            ...                                 8.72\n",
       "\n",
       "[5 rows x 6 columns]"
      ]
     },
     "execution_count": 3,
     "metadata": {},
     "output_type": "execute_result"
    }
   ],
   "source": [
    "data.head()"
   ]
  },
  {
   "cell_type": "code",
   "execution_count": 4,
   "metadata": {},
   "outputs": [],
   "source": [
    "crop_production_data = pd.read_csv(\"../input/datafile (2).csv\")"
   ]
  },
  {
   "cell_type": "code",
   "execution_count": 5,
   "metadata": {},
   "outputs": [
    {
     "data": {
      "text/html": [
       "<div>\n",
       "<style scoped>\n",
       "    .dataframe tbody tr th:only-of-type {\n",
       "        vertical-align: middle;\n",
       "    }\n",
       "\n",
       "    .dataframe tbody tr th {\n",
       "        vertical-align: top;\n",
       "    }\n",
       "\n",
       "    .dataframe thead th {\n",
       "        text-align: right;\n",
       "    }\n",
       "</style>\n",
       "<table border=\"1\" class=\"dataframe\">\n",
       "  <thead>\n",
       "    <tr style=\"text-align: right;\">\n",
       "      <th></th>\n",
       "      <th>Crop</th>\n",
       "      <th>Production 2006-07</th>\n",
       "      <th>Production 2007-08</th>\n",
       "      <th>Production 2008-09</th>\n",
       "      <th>Production 2009-10</th>\n",
       "      <th>Production 2010-11</th>\n",
       "      <th>Area 2006-07</th>\n",
       "      <th>Area 2007-08</th>\n",
       "      <th>Area 2008-09</th>\n",
       "      <th>Area 2009-10</th>\n",
       "      <th>Area 2010-11</th>\n",
       "      <th>Yield 2006-07</th>\n",
       "      <th>Yield 2007-08</th>\n",
       "      <th>Yield 2008-09</th>\n",
       "      <th>Yield 2009-10</th>\n",
       "      <th>Yield 2010-11</th>\n",
       "    </tr>\n",
       "  </thead>\n",
       "  <tbody>\n",
       "    <tr>\n",
       "      <th>0</th>\n",
       "      <td>Total Foodgrains</td>\n",
       "      <td>158.8</td>\n",
       "      <td>168.6</td>\n",
       "      <td>171.3</td>\n",
       "      <td>159.4</td>\n",
       "      <td>178.9</td>\n",
       "      <td>128.5</td>\n",
       "      <td>128.8</td>\n",
       "      <td>127.6</td>\n",
       "      <td>126.0</td>\n",
       "      <td>131.7</td>\n",
       "      <td>123.6</td>\n",
       "      <td>130.9</td>\n",
       "      <td>134.3</td>\n",
       "      <td>126.5</td>\n",
       "      <td>135.9</td>\n",
       "    </tr>\n",
       "    <tr>\n",
       "      <th>1</th>\n",
       "      <td>Rice</td>\n",
       "      <td>200.8</td>\n",
       "      <td>207.9</td>\n",
       "      <td>213.3</td>\n",
       "      <td>191.6</td>\n",
       "      <td>206.4</td>\n",
       "      <td>168.5</td>\n",
       "      <td>168.9</td>\n",
       "      <td>175.1</td>\n",
       "      <td>161.2</td>\n",
       "      <td>164.8</td>\n",
       "      <td>119.2</td>\n",
       "      <td>123.1</td>\n",
       "      <td>121.8</td>\n",
       "      <td>118.9</td>\n",
       "      <td>125.2</td>\n",
       "    </tr>\n",
       "    <tr>\n",
       "      <th>2</th>\n",
       "      <td>Wheat</td>\n",
       "      <td>131.6</td>\n",
       "      <td>136.4</td>\n",
       "      <td>140.1</td>\n",
       "      <td>140.3</td>\n",
       "      <td>150.8</td>\n",
       "      <td>115.0</td>\n",
       "      <td>115.2</td>\n",
       "      <td>114.0</td>\n",
       "      <td>116.9</td>\n",
       "      <td>119.5</td>\n",
       "      <td>114.4</td>\n",
       "      <td>118.4</td>\n",
       "      <td>122.8</td>\n",
       "      <td>120.0</td>\n",
       "      <td>126.3</td>\n",
       "    </tr>\n",
       "    <tr>\n",
       "      <th>3</th>\n",
       "      <td>Jowar</td>\n",
       "      <td>124.3</td>\n",
       "      <td>137.8</td>\n",
       "      <td>126.0</td>\n",
       "      <td>116.5</td>\n",
       "      <td>121.8</td>\n",
       "      <td>120.7</td>\n",
       "      <td>110.6</td>\n",
       "      <td>107.3</td>\n",
       "      <td>111.0</td>\n",
       "      <td>105.2</td>\n",
       "      <td>103.0</td>\n",
       "      <td>124.6</td>\n",
       "      <td>117.4</td>\n",
       "      <td>105.0</td>\n",
       "      <td>115.8</td>\n",
       "    </tr>\n",
       "    <tr>\n",
       "      <th>4</th>\n",
       "      <td>Bajra</td>\n",
       "      <td>136.4</td>\n",
       "      <td>161.5</td>\n",
       "      <td>143.9</td>\n",
       "      <td>105.4</td>\n",
       "      <td>167.9</td>\n",
       "      <td>94.5</td>\n",
       "      <td>95.1</td>\n",
       "      <td>87.0</td>\n",
       "      <td>88.5</td>\n",
       "      <td>95.6</td>\n",
       "      <td>144.3</td>\n",
       "      <td>169.7</td>\n",
       "      <td>165.4</td>\n",
       "      <td>119.0</td>\n",
       "      <td>175.8</td>\n",
       "    </tr>\n",
       "  </tbody>\n",
       "</table>\n",
       "</div>"
      ],
      "text/plain": [
       "  Crop                   ...        Yield 2010-11\n",
       "0  Total Foodgrains      ...                135.9\n",
       "1              Rice      ...                125.2\n",
       "2             Wheat      ...                126.3\n",
       "3             Jowar      ...                115.8\n",
       "4             Bajra      ...                175.8\n",
       "\n",
       "[5 rows x 16 columns]"
      ]
     },
     "execution_count": 5,
     "metadata": {},
     "output_type": "execute_result"
    }
   ],
   "source": [
    "crop_production_data.head()"
   ]
  },
  {
   "cell_type": "code",
   "execution_count": 6,
   "metadata": {},
   "outputs": [
    {
     "data": {
      "text/plain": [
       "<matplotlib.legend.Legend at 0x7f03348d4e48>"
      ]
     },
     "execution_count": 6,
     "metadata": {},
     "output_type": "execute_result"
    },
    {
     "data": {
      "image/png": "[encoded data removed]",
      "text/plain": [
       "<Figure size 720x432 with 1 Axes>"
      ]
     },
     "metadata": {},
     "output_type": "display_data"
    }
   ],
   "source": [
    "fig,axs = plt.subplots(figsize=(10,6))\n",
    "crop_wise_yield = data.groupby(['Crop']).sum()['Yield (Quintal/ Hectare) ']\n",
    "plt.plot(crop_wise_yield)\n",
    "crop_wise_production = data.groupby(['Crop']).sum()['Cost of Production (`/Quintal) C2']/10\n",
    "plt.plot(crop_wise_production)\n",
    "plt.xticks(rotation ='vertical')\n",
    "plt.legend()\n",
    "# cost of production is 10 times as indicated\n",
    "# this shows maximum yield/hectare is of SUGARCANE\n",
    "# sugarcane has low cost of production/quintal "
   ]
  },
  {
   "cell_type": "code",
   "execution_count": 7,
   "metadata": {},
   "outputs": [
    {
     "data": {
      "text/plain": [
       "<matplotlib.axes._subplots.AxesSubplot at 0x7f0334889860>"
      ]
     },
     "execution_count": 7,
     "metadata": {},
     "output_type": "execute_result"
    },
    {
     "data": {
      "image/png": "[encoded data removed]",
      "text/plain": [
       "<Figure size 864x504 with 1 Axes>"
      ]
     },
     "metadata": {},
     "output_type": "display_data"
    }
   ],
   "source": [
    "state_crop_yield = data.groupby(['State'])\n",
    "index = list(state_crop_yield.indices.keys())\n",
    "state_crop_yield.sum()[['Cost of Production (`/Quintal) C2', 'Yield (Quintal/ Hectare) ']].plot(kind='bar',figsize=(12,7))"
   ]
  },
  {
   "cell_type": "code",
   "execution_count": 8,
   "metadata": {},
   "outputs": [],
   "source": [
    "recommended_zone = pd.read_csv('../input/datafile (3).csv')"
   ]
  },
  {
   "cell_type": "code",
   "execution_count": 9,
   "metadata": {},
   "outputs": [],
   "source": [
    "recommended_zone.drop('Unnamed: 4',axis=1,inplace=True)\n",
    "recommended_zone.dropna(inplace=True)"
   ]
  },
  {
   "cell_type": "code",
   "execution_count": 10,
   "metadata": {},
   "outputs": [
    {
     "name": "stdout",
     "output_type": "stream",
     "text": [
      "<class 'pandas.core.frame.DataFrame'>\n",
      "Int64Index: 50 entries, 0 to 75\n",
      "Data columns (total 4 columns):\n",
      "Crop                        50 non-null object\n",
      "Variety                     50 non-null object\n",
      "Season/ duration in days    50 non-null object\n",
      "Recommended Zone            50 non-null object\n",
      "dtypes: object(4)\n",
      "memory usage: 2.0+ KB\n"
     ]
    }
   ],
   "source": [
    "recommended_zone.info()"
   ]
  },
  {
   "cell_type": "code",
   "execution_count": 11,
   "metadata": {},
   "outputs": [
    {
     "data": {
      "text/html": [
       "<div>\n",
       "<style scoped>\n",
       "    .dataframe tbody tr th:only-of-type {\n",
       "        vertical-align: middle;\n",
       "    }\n",
       "\n",
       "    .dataframe tbody tr th {\n",
       "        vertical-align: top;\n",
       "    }\n",
       "\n",
       "    .dataframe thead th {\n",
       "        text-align: right;\n",
       "    }\n",
       "</style>\n",
       "<table border=\"1\" class=\"dataframe\">\n",
       "  <thead>\n",
       "    <tr style=\"text-align: right;\">\n",
       "      <th></th>\n",
       "      <th>Crop</th>\n",
       "      <th>Variety</th>\n",
       "      <th>Season/ duration in days</th>\n",
       "      <th>Recommended Zone</th>\n",
       "    </tr>\n",
       "  </thead>\n",
       "  <tbody>\n",
       "    <tr>\n",
       "      <th>0</th>\n",
       "      <td>Paddy</td>\n",
       "      <td>Chinsurah Rice (IET 19140)</td>\n",
       "      <td>Medium</td>\n",
       "      <td>Andhra Pradesh, Tamil Nadu, Gujarat, Orissa, a...</td>\n",
       "    </tr>\n",
       "    <tr>\n",
       "      <th>2</th>\n",
       "      <td>Paddy</td>\n",
       "      <td>IGKVR-1 (IET 19569)</td>\n",
       "      <td>Mid-early</td>\n",
       "      <td>Chhattisgarh, Madhya Pradesh and Orissa under ...</td>\n",
       "    </tr>\n",
       "    <tr>\n",
       "      <th>3</th>\n",
       "      <td>Paddy</td>\n",
       "      <td>IGKVR-2 (IET 19795)</td>\n",
       "      <td>Medium</td>\n",
       "      <td>Chhattisgarh, Bihar and Orissa under  both irr...</td>\n",
       "    </tr>\n",
       "    <tr>\n",
       "      <th>4</th>\n",
       "      <td>Paddy</td>\n",
       "      <td>CR Dhan 401 (REETA)</td>\n",
       "      <td>145-150</td>\n",
       "      <td>Orissa, West Bengal, Tamil Nadu and Andhra Pra...</td>\n",
       "    </tr>\n",
       "    <tr>\n",
       "      <th>5</th>\n",
       "      <td>Paddy</td>\n",
       "      <td>CR Dhan 601 (IET 18558)</td>\n",
       "      <td>160</td>\n",
       "      <td>Boro Area of Orissa, West Bengal and Assam.</td>\n",
       "    </tr>\n",
       "  </tbody>\n",
       "</table>\n",
       "</div>"
      ],
      "text/plain": [
       "    Crop                        ...                                                           Recommended Zone\n",
       "0  Paddy                        ...                          Andhra Pradesh, Tamil Nadu, Gujarat, Orissa, a...\n",
       "2  Paddy                        ...                          Chhattisgarh, Madhya Pradesh and Orissa under ...\n",
       "3  Paddy                        ...                          Chhattisgarh, Bihar and Orissa under  both irr...\n",
       "4  Paddy                        ...                          Orissa, West Bengal, Tamil Nadu and Andhra Pra...\n",
       "5  Paddy                        ...                                Boro Area of Orissa, West Bengal and Assam.\n",
       "\n",
       "[5 rows x 4 columns]"
      ]
     },
     "execution_count": 11,
     "metadata": {},
     "output_type": "execute_result"
    }
   ],
   "source": [
    "recommended_zone.head()"
   ]
  },
  {
   "cell_type": "code",
   "execution_count": 12,
   "metadata": {},
   "outputs": [],
   "source": [
    "def state1(row):\n",
    "    if 'Andhra Pradesh' in row['Recommended Zone']:\n",
    "        return 1\n",
    "def state2(row):\n",
    "    if 'Tamil Nadu' in row['Recommended Zone']:\n",
    "        return 1\n",
    "def state3(row):\n",
    "    if 'Gujarat' in row['Recommended Zone']:\n",
    "        return 1\n",
    "def state4(row):\n",
    "    if 'Orissa' in row['Recommended Zone']:\n",
    "        return 1\n",
    "def state5(row):\n",
    "    if 'Punjab' in row['Recommended Zone']:\n",
    "        return 1\n",
    "def state6(row):\n",
    "    if 'Haryana' in row['Recommended Zone']:\n",
    "        return 1\n",
    "def state7(row):\n",
    "    if 'Uttar Pradesh' in row['Recommended Zone']:\n",
    "        return 1\n",
    "def state8(row):\n",
    "    if 'Rajasthan' in row['Recommended Zone']:\n",
    "        return 1\n",
    "def state9(row):\n",
    "    if 'Karnataka' in row['Recommended Zone']:\n",
    "        return 1\n",
    "def state10(row):\n",
    "    if 'Madhya Pradesh' in row['Recommended Zone']:\n",
    "        return 1\n",
    "def state11(row):\n",
    "    if 'West Bengal' in row['Recommended Zone']:\n",
    "        return 1"
   ]
  },
  {
   "cell_type": "code",
   "execution_count": 13,
   "metadata": {},
   "outputs": [],
   "source": [
    "recommended_zone['Andhra Pradesh'] = recommended_zone.apply(state1,axis=1)\n",
    "recommended_zone['Tamil Nadu']=recommended_zone.apply(state2,axis=1)\n",
    "recommended_zone['Gujarat']=recommended_zone.apply(state3,axis=1)\n",
    "recommended_zone['Orissa']=recommended_zone.apply(state4,axis=1)\n",
    "recommended_zone['Punjab']=recommended_zone.apply(state5,axis=1)\n",
    "recommended_zone['Haryana']=recommended_zone.apply(state6,axis=1)\n",
    "recommended_zone['Uttar Pradesh']=recommended_zone.apply(state7,axis=1)\n",
    "recommended_zone['Rajasthan']=recommended_zone.apply(state8,axis=1)\n",
    "recommended_zone['Karnataka']=recommended_zone.apply(state9,axis=1)\n",
    "recommended_zone['Madhya Pradesh']=recommended_zone.apply(state10,axis=1)\n",
    "recommended_zone['West Bangal']=recommended_zone.apply(state11,axis=1)\n",
    "# Added the eleven states as columns in the dataframe  "
   ]
  },
  {
   "cell_type": "code",
   "execution_count": 14,
   "metadata": {},
   "outputs": [
    {
     "data": {
      "text/html": [
       "<div>\n",
       "<style scoped>\n",
       "    .dataframe tbody tr th:only-of-type {\n",
       "        vertical-align: middle;\n",
       "    }\n",
       "\n",
       "    .dataframe tbody tr th {\n",
       "        vertical-align: top;\n",
       "    }\n",
       "\n",
       "    .dataframe thead th {\n",
       "        text-align: right;\n",
       "    }\n",
       "</style>\n",
       "<table border=\"1\" class=\"dataframe\">\n",
       "  <thead>\n",
       "    <tr style=\"text-align: right;\">\n",
       "      <th></th>\n",
       "      <th>Crop</th>\n",
       "      <th>Variety</th>\n",
       "      <th>Season/ duration in days</th>\n",
       "      <th>Recommended Zone</th>\n",
       "      <th>Andhra Pradesh</th>\n",
       "      <th>Tamil Nadu</th>\n",
       "      <th>Gujarat</th>\n",
       "      <th>Orissa</th>\n",
       "      <th>Punjab</th>\n",
       "      <th>Haryana</th>\n",
       "      <th>Uttar Pradesh</th>\n",
       "      <th>Rajasthan</th>\n",
       "      <th>Karnataka</th>\n",
       "      <th>Madhya Pradesh</th>\n",
       "      <th>West Bangal</th>\n",
       "    </tr>\n",
       "  </thead>\n",
       "  <tbody>\n",
       "    <tr>\n",
       "      <th>0</th>\n",
       "      <td>Paddy</td>\n",
       "      <td>Chinsurah Rice (IET 19140)</td>\n",
       "      <td>Medium</td>\n",
       "      <td>Andhra Pradesh, Tamil Nadu, Gujarat, Orissa, a...</td>\n",
       "      <td>1.0</td>\n",
       "      <td>1.0</td>\n",
       "      <td>1.0</td>\n",
       "      <td>1.0</td>\n",
       "      <td>0.0</td>\n",
       "      <td>0.0</td>\n",
       "      <td>0.0</td>\n",
       "      <td>0.0</td>\n",
       "      <td>0.0</td>\n",
       "      <td>0.0</td>\n",
       "      <td>1.0</td>\n",
       "    </tr>\n",
       "    <tr>\n",
       "      <th>2</th>\n",
       "      <td>Paddy</td>\n",
       "      <td>IGKVR-1 (IET 19569)</td>\n",
       "      <td>Mid-early</td>\n",
       "      <td>Chhattisgarh, Madhya Pradesh and Orissa under ...</td>\n",
       "      <td>0.0</td>\n",
       "      <td>0.0</td>\n",
       "      <td>0.0</td>\n",
       "      <td>1.0</td>\n",
       "      <td>0.0</td>\n",
       "      <td>0.0</td>\n",
       "      <td>0.0</td>\n",
       "      <td>0.0</td>\n",
       "      <td>0.0</td>\n",
       "      <td>1.0</td>\n",
       "      <td>0.0</td>\n",
       "    </tr>\n",
       "    <tr>\n",
       "      <th>3</th>\n",
       "      <td>Paddy</td>\n",
       "      <td>IGKVR-2 (IET 19795)</td>\n",
       "      <td>Medium</td>\n",
       "      <td>Chhattisgarh, Bihar and Orissa under  both irr...</td>\n",
       "      <td>0.0</td>\n",
       "      <td>0.0</td>\n",
       "      <td>0.0</td>\n",
       "      <td>1.0</td>\n",
       "      <td>0.0</td>\n",
       "      <td>0.0</td>\n",
       "      <td>0.0</td>\n",
       "      <td>0.0</td>\n",
       "      <td>0.0</td>\n",
       "      <td>0.0</td>\n",
       "      <td>0.0</td>\n",
       "    </tr>\n",
       "    <tr>\n",
       "      <th>4</th>\n",
       "      <td>Paddy</td>\n",
       "      <td>CR Dhan 401 (REETA)</td>\n",
       "      <td>145-150</td>\n",
       "      <td>Orissa, West Bengal, Tamil Nadu and Andhra Pra...</td>\n",
       "      <td>1.0</td>\n",
       "      <td>1.0</td>\n",
       "      <td>0.0</td>\n",
       "      <td>1.0</td>\n",
       "      <td>0.0</td>\n",
       "      <td>0.0</td>\n",
       "      <td>0.0</td>\n",
       "      <td>0.0</td>\n",
       "      <td>0.0</td>\n",
       "      <td>0.0</td>\n",
       "      <td>1.0</td>\n",
       "    </tr>\n",
       "    <tr>\n",
       "      <th>5</th>\n",
       "      <td>Paddy</td>\n",
       "      <td>CR Dhan 601 (IET 18558)</td>\n",
       "      <td>160</td>\n",
       "      <td>Boro Area of Orissa, West Bengal and Assam.</td>\n",
       "      <td>0.0</td>\n",
       "      <td>0.0</td>\n",
       "      <td>0.0</td>\n",
       "      <td>1.0</td>\n",
       "      <td>0.0</td>\n",
       "      <td>0.0</td>\n",
       "      <td>0.0</td>\n",
       "      <td>0.0</td>\n",
       "      <td>0.0</td>\n",
       "      <td>0.0</td>\n",
       "      <td>1.0</td>\n",
       "    </tr>\n",
       "  </tbody>\n",
       "</table>\n",
       "</div>"
      ],
      "text/plain": [
       "    Crop                     Variety     ...     Madhya Pradesh West Bangal\n",
       "0  Paddy  Chinsurah Rice (IET 19140)     ...                0.0         1.0\n",
       "2  Paddy         IGKVR-1 (IET 19569)     ...                1.0         0.0\n",
       "3  Paddy         IGKVR-2 (IET 19795)     ...                0.0         0.0\n",
       "4  Paddy        CR Dhan 401 (REETA)      ...                0.0         1.0\n",
       "5  Paddy     CR Dhan 601 (IET 18558)     ...                0.0         1.0\n",
       "\n",
       "[5 rows x 15 columns]"
      ]
     },
     "execution_count": 14,
     "metadata": {},
     "output_type": "execute_result"
    }
   ],
   "source": [
    "recommended_zone.fillna(0).head()"
   ]
  },
  {
   "cell_type": "code",
   "execution_count": 15,
   "metadata": {},
   "outputs": [
    {
     "data": {
      "text/plain": [
       "<matplotlib.axes._subplots.AxesSubplot at 0x7f03289be240>"
      ]
     },
     "execution_count": 15,
     "metadata": {},
     "output_type": "execute_result"
    },
    {
     "data": {
      "image/png": "[encoded data removed]",
      "text/plain": [
       "<Figure size 1080x504 with 1 Axes>"
      ]
     },
     "metadata": {},
     "output_type": "display_data"
    }
   ],
   "source": [
    "dataframe = recommended_zone.groupby('Crop').sum().plot(kind='bar',figsize=(15,7))\n",
    "dataframe\n",
    "# wheat is almost sown in all the mentioned states\n",
    "# suitable zones for paddy is Orissa and west Bengal"
   ]
  },
  {
   "cell_type": "code",
   "execution_count": 16,
   "metadata": {},
   "outputs": [],
   "source": [
    "dataframe = pd.DataFrame(recommended_zone.groupby('Season/ duration in days').count().reset_index())\n",
    "dataframe1 = pd.DataFrame([dataframe.loc[1:27].sum(),dataframe.loc[29:37].sum()])\n",
    "dataframe1.drop('Season/ duration in days',axis=1,inplace=True)\n",
    "dataframe1 = dataframe1.assign(Duration = ['100-190','70-100']) "
   ]
  },
  {
   "cell_type": "code",
   "execution_count": 17,
   "metadata": {},
   "outputs": [
    {
     "data": {
      "text/plain": [
       "<matplotlib.axes._subplots.AxesSubplot at 0x7f03285e6208>"
      ]
     },
     "execution_count": 17,
     "metadata": {},
     "output_type": "execute_result"
    },
    {
     "data": {
      "image/png": "[encoded data removed]",
      "text/plain": [
       "<Figure size 864x504 with 1 Axes>"
      ]
     },
     "metadata": {},
     "output_type": "display_data"
    }
   ],
   "source": [
    "dataframe1[['Andhra Pradesh', 'Tamil Nadu',\n",
    "       'Gujarat', 'Orissa', 'Punjab', 'Haryana', 'Uttar Pradesh', 'Rajasthan',\n",
    "       'Karnataka', 'Madhya Pradesh', 'West Bangal', 'Duration']].plot(x = 'Duration',kind='bar',figsize=(12,7))\n",
    "# most favorable state for growing crops in 100-190 days is UP and Rajasthan\n",
    "# for 70-100 days it is Gujarat"
   ]
  },
  {
   "cell_type": "code",
   "execution_count": 18,
   "metadata": {},
   "outputs": [
    {
     "data": {
      "text/html": [
       "<div>\n",
       "<style scoped>\n",
       "    .dataframe tbody tr th:only-of-type {\n",
       "        vertical-align: middle;\n",
       "    }\n",
       "\n",
       "    .dataframe tbody tr th {\n",
       "        vertical-align: top;\n",
       "    }\n",
       "\n",
       "    .dataframe thead th {\n",
       "        text-align: right;\n",
       "    }\n",
       "</style>\n",
       "<table border=\"1\" class=\"dataframe\">\n",
       "  <thead>\n",
       "    <tr style=\"text-align: right;\">\n",
       "      <th></th>\n",
       "      <th>Crop</th>\n",
       "      <th>Variety</th>\n",
       "      <th>Recommended Zone</th>\n",
       "      <th>Andhra Pradesh</th>\n",
       "      <th>Tamil Nadu</th>\n",
       "      <th>Gujarat</th>\n",
       "      <th>Orissa</th>\n",
       "      <th>Punjab</th>\n",
       "      <th>Haryana</th>\n",
       "      <th>Uttar Pradesh</th>\n",
       "      <th>Rajasthan</th>\n",
       "      <th>Karnataka</th>\n",
       "      <th>Madhya Pradesh</th>\n",
       "      <th>West Bangal</th>\n",
       "      <th>Duration</th>\n",
       "    </tr>\n",
       "  </thead>\n",
       "  <tbody>\n",
       "    <tr>\n",
       "      <th>0</th>\n",
       "      <td>34</td>\n",
       "      <td>34</td>\n",
       "      <td>34</td>\n",
       "      <td>2</td>\n",
       "      <td>3</td>\n",
       "      <td>8</td>\n",
       "      <td>5</td>\n",
       "      <td>8</td>\n",
       "      <td>11</td>\n",
       "      <td>13</td>\n",
       "      <td>13</td>\n",
       "      <td>3</td>\n",
       "      <td>7</td>\n",
       "      <td>7</td>\n",
       "      <td>100-190</td>\n",
       "    </tr>\n",
       "    <tr>\n",
       "      <th>1</th>\n",
       "      <td>11</td>\n",
       "      <td>11</td>\n",
       "      <td>11</td>\n",
       "      <td>4</td>\n",
       "      <td>5</td>\n",
       "      <td>6</td>\n",
       "      <td>3</td>\n",
       "      <td>3</td>\n",
       "      <td>3</td>\n",
       "      <td>0</td>\n",
       "      <td>4</td>\n",
       "      <td>4</td>\n",
       "      <td>2</td>\n",
       "      <td>1</td>\n",
       "      <td>70-100</td>\n",
       "    </tr>\n",
       "  </tbody>\n",
       "</table>\n",
       "</div>"
      ],
      "text/plain": [
       "   Crop  Variety    ...     West Bangal  Duration\n",
       "0    34       34    ...               7   100-190\n",
       "1    11       11    ...               1    70-100\n",
       "\n",
       "[2 rows x 15 columns]"
      ]
     },
     "execution_count": 18,
     "metadata": {},
     "output_type": "execute_result"
    }
   ],
   "source": [
    "dataframe1\n",
    "# max number of crops are sown for 100-190 days not for 70-100 days"
   ]
  },
  {
   "cell_type": "code",
   "execution_count": 19,
   "metadata": {},
   "outputs": [
    {
     "data": {
      "text/html": [
       "<div>\n",
       "<style scoped>\n",
       "    .dataframe tbody tr th:only-of-type {\n",
       "        vertical-align: middle;\n",
       "    }\n",
       "\n",
       "    .dataframe tbody tr th {\n",
       "        vertical-align: top;\n",
       "    }\n",
       "\n",
       "    .dataframe thead th {\n",
       "        text-align: right;\n",
       "    }\n",
       "</style>\n",
       "<table border=\"1\" class=\"dataframe\">\n",
       "  <thead>\n",
       "    <tr style=\"text-align: right;\">\n",
       "      <th></th>\n",
       "      <th>Crop</th>\n",
       "      <th>Production 2006-07</th>\n",
       "      <th>Production 2007-08</th>\n",
       "      <th>Production 2008-09</th>\n",
       "      <th>Production 2009-10</th>\n",
       "      <th>Production 2010-11</th>\n",
       "      <th>Area 2006-07</th>\n",
       "      <th>Area 2007-08</th>\n",
       "      <th>Area 2008-09</th>\n",
       "      <th>Area 2009-10</th>\n",
       "      <th>Area 2010-11</th>\n",
       "      <th>Yield 2006-07</th>\n",
       "      <th>Yield 2007-08</th>\n",
       "      <th>Yield 2008-09</th>\n",
       "      <th>Yield 2009-10</th>\n",
       "      <th>Yield 2010-11</th>\n",
       "    </tr>\n",
       "  </thead>\n",
       "  <tbody>\n",
       "    <tr>\n",
       "      <th>0</th>\n",
       "      <td>Total Foodgrains</td>\n",
       "      <td>158.8</td>\n",
       "      <td>168.6</td>\n",
       "      <td>171.3</td>\n",
       "      <td>159.4</td>\n",
       "      <td>178.9</td>\n",
       "      <td>128.5</td>\n",
       "      <td>128.8</td>\n",
       "      <td>127.6</td>\n",
       "      <td>126.0</td>\n",
       "      <td>131.7</td>\n",
       "      <td>123.6</td>\n",
       "      <td>130.9</td>\n",
       "      <td>134.3</td>\n",
       "      <td>126.5</td>\n",
       "      <td>135.9</td>\n",
       "    </tr>\n",
       "    <tr>\n",
       "      <th>1</th>\n",
       "      <td>Rice</td>\n",
       "      <td>200.8</td>\n",
       "      <td>207.9</td>\n",
       "      <td>213.3</td>\n",
       "      <td>191.6</td>\n",
       "      <td>206.4</td>\n",
       "      <td>168.5</td>\n",
       "      <td>168.9</td>\n",
       "      <td>175.1</td>\n",
       "      <td>161.2</td>\n",
       "      <td>164.8</td>\n",
       "      <td>119.2</td>\n",
       "      <td>123.1</td>\n",
       "      <td>121.8</td>\n",
       "      <td>118.9</td>\n",
       "      <td>125.2</td>\n",
       "    </tr>\n",
       "    <tr>\n",
       "      <th>2</th>\n",
       "      <td>Wheat</td>\n",
       "      <td>131.6</td>\n",
       "      <td>136.4</td>\n",
       "      <td>140.1</td>\n",
       "      <td>140.3</td>\n",
       "      <td>150.8</td>\n",
       "      <td>115.0</td>\n",
       "      <td>115.2</td>\n",
       "      <td>114.0</td>\n",
       "      <td>116.9</td>\n",
       "      <td>119.5</td>\n",
       "      <td>114.4</td>\n",
       "      <td>118.4</td>\n",
       "      <td>122.8</td>\n",
       "      <td>120.0</td>\n",
       "      <td>126.3</td>\n",
       "    </tr>\n",
       "    <tr>\n",
       "      <th>3</th>\n",
       "      <td>Jowar</td>\n",
       "      <td>124.3</td>\n",
       "      <td>137.8</td>\n",
       "      <td>126.0</td>\n",
       "      <td>116.5</td>\n",
       "      <td>121.8</td>\n",
       "      <td>120.7</td>\n",
       "      <td>110.6</td>\n",
       "      <td>107.3</td>\n",
       "      <td>111.0</td>\n",
       "      <td>105.2</td>\n",
       "      <td>103.0</td>\n",
       "      <td>124.6</td>\n",
       "      <td>117.4</td>\n",
       "      <td>105.0</td>\n",
       "      <td>115.8</td>\n",
       "    </tr>\n",
       "    <tr>\n",
       "      <th>4</th>\n",
       "      <td>Bajra</td>\n",
       "      <td>136.4</td>\n",
       "      <td>161.5</td>\n",
       "      <td>143.9</td>\n",
       "      <td>105.4</td>\n",
       "      <td>167.9</td>\n",
       "      <td>94.5</td>\n",
       "      <td>95.1</td>\n",
       "      <td>87.0</td>\n",
       "      <td>88.5</td>\n",
       "      <td>95.6</td>\n",
       "      <td>144.3</td>\n",
       "      <td>169.7</td>\n",
       "      <td>165.4</td>\n",
       "      <td>119.0</td>\n",
       "      <td>175.8</td>\n",
       "    </tr>\n",
       "  </tbody>\n",
       "</table>\n",
       "</div>"
      ],
      "text/plain": [
       "  Crop                   ...        Yield 2010-11\n",
       "0  Total Foodgrains      ...                135.9\n",
       "1              Rice      ...                125.2\n",
       "2             Wheat      ...                126.3\n",
       "3             Jowar      ...                115.8\n",
       "4             Bajra      ...                175.8\n",
       "\n",
       "[5 rows x 16 columns]"
      ]
     },
     "execution_count": 19,
     "metadata": {},
     "output_type": "execute_result"
    }
   ],
   "source": [
    "crop_production_data.head()"
   ]
  },
  {
   "cell_type": "code",
   "execution_count": 20,
   "metadata": {},
   "outputs": [],
   "source": [
    "crop_production_data.columns = ['Crop', 'Production 2006-07', 'Production 2007-08',\n",
    "       'Production 2008-09', 'Production 2009-10', 'Production 2010-11',\n",
    "       'Area 2006-07', 'Area 2007-08', 'Area 2008-09', 'Area 2009-10',\n",
    "       'Area 2010-11', 'Yield 2006-07', 'Yield 2007-08', 'Yield 2008-09',\n",
    "       'Yield 2009-10', 'Yield 2010-11']"
   ]
  },
  {
   "cell_type": "code",
   "execution_count": 21,
   "metadata": {},
   "outputs": [
    {
     "data": {
      "image/png": "[encoded data removed]",
      "text/plain": [
       "<Figure size 1080x432 with 1 Axes>"
      ]
     },
     "metadata": {},
     "output_type": "display_data"
    }
   ],
   "source": [
    "plt.subplots(figsize=(15,6))\n",
    "plt.scatter(x='Crop',y='Production 2006-07',data = crop_production_data)\n",
    "plt.xticks(rotation=90)\n",
    "plt.show()"
   ]
  }
 ],
 "metadata": {
  "kernelspec": {
   "display_name": "Python 3",
   "language": "python",
   "name": "python3"
  },
  "language_info": {
   "codemirror_mode": {
    "name": "ipython",
    "version": 3
   },
   "file_extension": ".py",
   "mimetype": "text/x-python",
   "name": "python",
   "nbconvert_exporter": "python",
   "pygments_lexer": "ipython3",
   "version": "3.6.4"
  }
 },
 "nbformat": 4,
 "nbformat_minor": 4
}
